{
 "cells": [
  {
   "cell_type": "code",
   "execution_count": 1,
   "metadata": {},
   "outputs": [
    {
     "name": "stderr",
     "output_type": "stream",
     "text": [
      "/Users/davidnicholson/opt/anaconda3/envs/article-env/lib/python3.9/site-packages/tqdm/auto.py:22: TqdmWarning: IProgress not found. Please update jupyter and ipywidgets. See https://ipywidgets.readthedocs.io/en/stable/user_install.html\n",
      "  from .autonotebook import tqdm as notebook_tqdm\n"
     ]
    }
   ],
   "source": [
    "from pathlib import Path\n",
    "from pprint import pprint\n",
    "import shutil\n",
    "\n",
    "import pandas as pd\n",
    "import pyprojroot\n",
    "import vakresults_dirs_all = []"
   ]
  },
  {
   "cell_type": "code",
   "execution_count": 26,
   "metadata": {},
   "outputs": [],
   "source": [
    "THESE_DIRS = {\n",
    "    'Bengalese_Finches': [\n",
    "        'filter_num/filter_num_16',\n",
    "        'filter_num/filter_num_64',\n",
    "        'filter_size/filter_size_3',\n",
    "        'filter_size/filter_size_7',\n",
    "        'hidden_size/hidden_size_16',\n",
    "        'hidden_size/hidden_size_64',\n",
    "        'learncurve',\n",
    "        'window_size/window_size_22',\n",
    "        'window_size/window_size_44',\n",
    "        'window_size/window_size_88',\n",
    "        'window_size/window_size_352',\n",
    "    ],\n",
    "    'Canaries': [\n",
    "        'hidden_size/hidden_size_32',\n",
    "        'hidden_size/hidden_size_64',\n",
    "        'hidden_size/hidden_size_1024',\n",
    "        'hidden_size/hidden_size_2048',\n",
    "        \"learncurve\",\n",
    "        \"long_train\",\n",
    "        'window_size/window_size_23',\n",
    "        'window_size/window_size_46',\n",
    "        'window_size/window_size_92',\n",
    "        'window_size/window_size_185',\n",
    "        'window_size/window_size_740',\n",
    "    ]\n",
    "}"
   ]
  },
  {
   "cell_type": "code",
   "execution_count": 2,
   "metadata": {},
   "outputs": [],
   "source": [
    "RESULTS_ROOT = pyprojroot.here() / 'results'"
   ]
  },
  {
   "cell_type": "markdown",
   "metadata": {},
   "source": [
    "#### Canaries\n",
    "\n",
    "Get error .csv files for all results, except for the `hvc` experiments."
   ]
  },
  {
   "cell_type": "code",
   "execution_count": 3,
   "metadata": {},
   "outputs": [],
   "source": [
    "canary_results_subdirs = [\n",
    "        'hidden_size/hidden_size_32',\n",
    "        'hidden_size/hidden_size_64',\n",
    "        'hidden_size/hidden_size_1024',\n",
    "#        'hidden_size/hidden_size_2048',\n",
    "        \"learncurve\",\n",
    "#        \"long_train\",\n",
    "        'window_size/window_size_23',\n",
    "        'window_size/window_size_46',\n",
    "        'window_size/window_size_92',\n",
    "        'window_size/window_size_185',\n",
    "        'window_size/window_size_740',\n",
    "]"
   ]
  },
  {
   "cell_type": "code",
   "execution_count": 4,
   "metadata": {},
   "outputs": [],
   "source": [
    "err_csvs = []\n",
    "\n",
    "for this_dir in canary_results_subdirs:\n",
    "    this_dir_path = RESULTS_ROOT / 'Canaries' / this_dir\n",
    "    err_csv = sorted(this_dir_path.glob('err*cleanup.csv'))\n",
    "    assert len(err_csv) > 0\n",
    "    err_csvs.extend(err_csv)\n",
    "\n",
    "err_csvs = [\n",
    "    err_csv\n",
    "    for err_csv in err_csvs\n",
    "    if '.ipynb_checkpoints' not in str(err_csv)\n",
    "]"
   ]
  },
  {
   "cell_type": "code",
   "execution_count": 6,
   "metadata": {},
   "outputs": [],
   "source": [
    "results_dirs_all = []\n",
    "\n",
    "for err_csv in err_csvs:\n",
    "    err_df = pd.read_csv(err_csv)\n",
    "    results_dirs = err_df['results_dir'].unique()\n",
    "    assert len(results_dirs) > 0\n",
    "    if any([str(results_dir).startswith('/home/art/Documents/repos/coding/birdsong/tweetynet/') for results_dir in results_dirs]):\n",
    "            results_dirs = [results_dir.replace('/home/art/Documents/repos/coding/birdsong/tweetynet/', '') for results_dir in results_dirs]\n",
    "    results_dirs = [\n",
    "        pyprojroot.here() / results_dir\n",
    "        for results_dir in results_dirs\n",
    "    ]\n",
    "    assert all([results_dir.exists() for results_dir in results_dirs])\n",
    "    results_dirs_all.extend(results_dirs)"
   ]
  },
  {
   "cell_type": "code",
   "execution_count": 7,
   "metadata": {},
   "outputs": [
    {
     "data": {
      "text/plain": [
       "[PosixPath('/Volumes/My Passport/vocal/tweetynet/article/results/Canaries/hidden_size/hidden_size_32/llb16/results_210601_100058'),\n",
       " PosixPath('/Volumes/My Passport/vocal/tweetynet/article/results/Canaries/hidden_size/hidden_size_32/llb3/results_210607_114009'),\n",
       " PosixPath('/Volumes/My Passport/vocal/tweetynet/article/results/Canaries/hidden_size/hidden_size_64/llb16/results_210602_233906'),\n",
       " PosixPath('/Volumes/My Passport/vocal/tweetynet/article/results/Canaries/hidden_size/hidden_size_64/llb3/results_210608_111148'),\n",
       " PosixPath('/Volumes/My Passport/vocal/tweetynet/article/results/Canaries/hidden_size/hidden_size_1024/llb16/results_210606_100816'),\n",
       " PosixPath('/Volumes/My Passport/vocal/tweetynet/article/results/Canaries/hidden_size/hidden_size_1024/llb3/results_210603_235406'),\n",
       " PosixPath('/Volumes/My Passport/vocal/tweetynet/article/results/Canaries/learncurve/llb11/results_200610_101801'),\n",
       " PosixPath('/Volumes/My Passport/vocal/tweetynet/article/results/Canaries/learncurve/llb16/results_200613_145015'),\n",
       " PosixPath('/Volumes/My Passport/vocal/tweetynet/article/results/Canaries/learncurve/llb3/results_200605_104920'),\n",
       " PosixPath('/Volumes/My Passport/vocal/tweetynet/article/results/Canaries/window_size/window_size_23/llb16/results_210401_081144'),\n",
       " PosixPath('/Volumes/My Passport/vocal/tweetynet/article/results/Canaries/window_size/window_size_23/llb3/results_210525_130447'),\n",
       " PosixPath('/Volumes/My Passport/vocal/tweetynet/article/results/Canaries/window_size/window_size_46/llb16/results_210331_162818'),\n",
       " PosixPath('/Volumes/My Passport/vocal/tweetynet/article/results/Canaries/window_size/window_size_46/llb3/results_210407_161255'),\n",
       " PosixPath('/Volumes/My Passport/vocal/tweetynet/article/results/Canaries/window_size/window_size_92/llb16/results_210331_074649'),\n",
       " PosixPath('/Volumes/My Passport/vocal/tweetynet/article/results/Canaries/window_size/window_size_92/llb3/results_210404_211008'),\n",
       " PosixPath('/Volumes/My Passport/vocal/tweetynet/article/results/Canaries/window_size/window_size_185/llb16/results_210330_180815'),\n",
       " PosixPath('/Volumes/My Passport/vocal/tweetynet/article/results/Canaries/window_size/window_size_185/llb3/results_210402_171156'),\n",
       " PosixPath('/Volumes/My Passport/vocal/tweetynet/article/results/Canaries/window_size/window_size_740/llb16/results_210524_101828')]"
      ]
     },
     "execution_count": 7,
     "metadata": {},
     "output_type": "execute_result"
    }
   ],
   "source": [
    "results_dirs_all"
   ]
  },
  {
   "cell_type": "code",
   "execution_count": 8,
   "metadata": {},
   "outputs": [],
   "source": [
    "TAR_DST = pyprojroot.here() / 'results' / 'tars'"
   ]
  },
  {
   "cell_type": "code",
   "execution_count": 9,
   "metadata": {},
   "outputs": [
    {
     "name": "stdout",
     "output_type": "stream",
     "text": [
      "\n",
      "archiving: /Volumes/My Passport/vocal/tweetynet/article/results/Canaries/hidden_size/hidden_size_32/llb16/results_210601_100058\n",
      "will create archive with base name: Canaries-hidden_size-hidden_size_32-llb16-results_210601_100058\n",
      "\n",
      "archiving: /Volumes/My Passport/vocal/tweetynet/article/results/Canaries/hidden_size/hidden_size_32/llb3/results_210607_114009\n",
      "will create archive with base name: Canaries-hidden_size-hidden_size_32-llb3-results_210607_114009\n",
      "\n",
      "archiving: /Volumes/My Passport/vocal/tweetynet/article/results/Canaries/hidden_size/hidden_size_64/llb16/results_210602_233906\n",
      "will create archive with base name: Canaries-hidden_size-hidden_size_64-llb16-results_210602_233906\n",
      "\n",
      "archiving: /Volumes/My Passport/vocal/tweetynet/article/results/Canaries/hidden_size/hidden_size_64/llb3/results_210608_111148\n",
      "will create archive with base name: Canaries-hidden_size-hidden_size_64-llb3-results_210608_111148\n",
      "\n",
      "archiving: /Volumes/My Passport/vocal/tweetynet/article/results/Canaries/hidden_size/hidden_size_1024/llb16/results_210606_100816\n",
      "will create archive with base name: Canaries-hidden_size-hidden_size_1024-llb16-results_210606_100816\n",
      "\n",
      "archiving: /Volumes/My Passport/vocal/tweetynet/article/results/Canaries/hidden_size/hidden_size_1024/llb3/results_210603_235406\n",
      "will create archive with base name: Canaries-hidden_size-hidden_size_1024-llb3-results_210603_235406\n",
      "\n",
      "archiving: /Volumes/My Passport/vocal/tweetynet/article/results/Canaries/learncurve/llb11/results_200610_101801\n",
      "will create archive with base name: Canaries-learncurve-llb11-results_200610_101801\n",
      "\n",
      "archiving: /Volumes/My Passport/vocal/tweetynet/article/results/Canaries/learncurve/llb16/results_200613_145015\n",
      "will create archive with base name: Canaries-learncurve-llb16-results_200613_145015\n",
      "\n",
      "archiving: /Volumes/My Passport/vocal/tweetynet/article/results/Canaries/learncurve/llb3/results_200605_104920\n",
      "will create archive with base name: Canaries-learncurve-llb3-results_200605_104920\n",
      "\n",
      "archiving: /Volumes/My Passport/vocal/tweetynet/article/results/Canaries/window_size/window_size_23/llb16/results_210401_081144\n",
      "will create archive with base name: Canaries-window_size-window_size_23-llb16-results_210401_081144\n",
      "\n",
      "archiving: /Volumes/My Passport/vocal/tweetynet/article/results/Canaries/window_size/window_size_23/llb3/results_210525_130447\n",
      "will create archive with base name: Canaries-window_size-window_size_23-llb3-results_210525_130447\n",
      "\n",
      "archiving: /Volumes/My Passport/vocal/tweetynet/article/results/Canaries/window_size/window_size_46/llb16/results_210331_162818\n",
      "will create archive with base name: Canaries-window_size-window_size_46-llb16-results_210331_162818\n",
      "\n",
      "archiving: /Volumes/My Passport/vocal/tweetynet/article/results/Canaries/window_size/window_size_46/llb3/results_210407_161255\n",
      "will create archive with base name: Canaries-window_size-window_size_46-llb3-results_210407_161255\n",
      "\n",
      "archiving: /Volumes/My Passport/vocal/tweetynet/article/results/Canaries/window_size/window_size_92/llb16/results_210331_074649\n",
      "will create archive with base name: Canaries-window_size-window_size_92-llb16-results_210331_074649\n",
      "\n",
      "archiving: /Volumes/My Passport/vocal/tweetynet/article/results/Canaries/window_size/window_size_92/llb3/results_210404_211008\n",
      "will create archive with base name: Canaries-window_size-window_size_92-llb3-results_210404_211008\n",
      "\n",
      "archiving: /Volumes/My Passport/vocal/tweetynet/article/results/Canaries/window_size/window_size_185/llb16/results_210330_180815\n",
      "will create archive with base name: Canaries-window_size-window_size_185-llb16-results_210330_180815\n",
      "\n",
      "archiving: /Volumes/My Passport/vocal/tweetynet/article/results/Canaries/window_size/window_size_185/llb3/results_210402_171156\n",
      "will create archive with base name: Canaries-window_size-window_size_185-llb3-results_210402_171156\n",
      "\n",
      "archiving: /Volumes/My Passport/vocal/tweetynet/article/results/Canaries/window_size/window_size_740/llb16/results_210524_101828\n",
      "will create archive with base name: Canaries-window_size-window_size_740-llb16-results_210524_101828\n"
     ]
    }
   ],
   "source": [
    "dry_run = False\n",
    "skip_exists = False\n",
    "\n",
    "for results_dir in results_dirs_all:\n",
    "    print(\n",
    "        f'\\narchiving: {results_dir}'\n",
    "    )\n",
    "    results_dir_split_list = str(results_dir).split('/')\n",
    "    results_ind = results_dir_split_list.index('results')\n",
    "    base_name = '-'.join(results_dir_split_list[results_ind + 1 :])\n",
    "    print(\n",
    "        f'will create archive with base name: {base_name}'\n",
    "    )\n",
    "    base_name_path = TAR_DST / base_name\n",
    "    \n",
    "    if not dry_run:\n",
    "        if skip_exists:\n",
    "            if base_name_path.exists():\n",
    "                print('Tar exists already, skipping.')\n",
    "\n",
    "        shutil.make_archive(\n",
    "            base_name=base_name_path,\n",
    "            format='gztar',\n",
    "            root_dir=results_dir\n",
    "        )"
   ]
  },
  {
   "cell_type": "code",
   "execution_count": null,
   "metadata": {},
   "outputs": [],
   "source": []
  }
 ],
 "metadata": {
  "kernelspec": {
   "display_name": "Python 3 (ipykernel)",
   "language": "python",
   "name": "python3"
  },
  "language_info": {
   "codemirror_mode": {
    "name": "ipython",
    "version": 3
   },
   "file_extension": ".py",
   "mimetype": "text/x-python",
   "name": "python",
   "nbconvert_exporter": "python",
   "pygments_lexer": "ipython3",
   "version": "3.9.10"
  }
 },
 "nbformat": 4,
 "nbformat_minor": 4
}
