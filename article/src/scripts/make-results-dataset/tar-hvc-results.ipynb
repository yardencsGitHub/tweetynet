{
 "cells": [
  {
   "cell_type": "code",
   "execution_count": 13,
   "metadata": {},
   "outputs": [
    {
     "name": "stderr",
     "output_type": "stream",
     "text": [
      "/Users/davidnicholson/opt/anaconda3/envs/article-env/lib/python3.9/site-packages/tqdm/auto.py:22: TqdmWarning: IProgress not found. Please update jupyter and ipywidgets. See https://ipywidgets.readthedocs.io/en/stable/user_install.html\n",
      "  from .autonotebook import tqdm as notebook_tqdm\n"
     ]
    }
   ],
   "source": [
    "from pathlib import Path\n",
    "import shutil\n",
    "\n",
    "import pandas as pd\n",
    "import pyprojroot\n",
    "import vak"
   ]
  },
  {
   "cell_type": "code",
   "execution_count": 18,
   "metadata": {},
   "outputs": [],
   "source": [
    "RESULTS_ROOT = pyprojroot.here() / 'results'\n",
    "\n",
    "hvc_dirs = []\n",
    "\n",
    "for species in ('Bengalese_Finches', 'Canaries'):\n",
    "    species_subdirs = [subdir \n",
    "                       for subdir in (RESULTS_ROOT / species / 'hvc').iterdir()\n",
    "                       if subdir.is_dir() and not subdir.name.startswith('tmp_old')]\n",
    "    hvc_dirs.extend(species_subdirs)"
   ]
  },
  {
   "cell_type": "code",
   "execution_count": 22,
   "metadata": {},
   "outputs": [],
   "source": [
    "TAR_DST = pyprojroot.here() / 'results' / 'tars'"
   ]
  },
  {
   "cell_type": "code",
   "execution_count": 23,
   "metadata": {},
   "outputs": [
    {
     "name": "stdout",
     "output_type": "stream",
     "text": [
      "\n",
      "archiving: /Volumes/My Passport/vocal/tweetynet/article/results/Bengalese_Finches/hvc/bl26lb16\n",
      "will create archive with base name: Bengalese_Finches-hvc-bl26lb16\n",
      "\n",
      "archiving: /Volumes/My Passport/vocal/tweetynet/article/results/Bengalese_Finches/hvc/gr41rd51\n",
      "will create archive with base name: Bengalese_Finches-hvc-gr41rd51\n",
      "\n",
      "archiving: /Volumes/My Passport/vocal/tweetynet/article/results/Bengalese_Finches/hvc/gy6or6\n",
      "will create archive with base name: Bengalese_Finches-hvc-gy6or6\n",
      "\n",
      "archiving: /Volumes/My Passport/vocal/tweetynet/article/results/Bengalese_Finches/hvc/or60yw70\n",
      "will create archive with base name: Bengalese_Finches-hvc-or60yw70\n",
      "\n",
      "archiving: /Volumes/My Passport/vocal/tweetynet/article/results/Canaries/hvc/llb11\n",
      "will create archive with base name: Canaries-hvc-llb11\n",
      "\n",
      "archiving: /Volumes/My Passport/vocal/tweetynet/article/results/Canaries/hvc/llb16\n",
      "will create archive with base name: Canaries-hvc-llb16\n",
      "\n",
      "archiving: /Volumes/My Passport/vocal/tweetynet/article/results/Canaries/hvc/llb3\n",
      "will create archive with base name: Canaries-hvc-llb3\n"
     ]
    }
   ],
   "source": [
    "dry_run = False\n",
    "skip_exists = False\n",
    "\n",
    "for results_dir in hvc_dirs:\n",
    "    print(\n",
    "        f'\\narchiving: {results_dir}'\n",
    "    )\n",
    "    results_dir_split_list = str(results_dir).split('/')\n",
    "    results_ind = results_dir_split_list.index('results')\n",
    "    base_name = '-'.join(results_dir_split_list[results_ind + 1 :])\n",
    "    print(\n",
    "        f'will create archive with base name: {base_name}'\n",
    "    )\n",
    "    base_name_path = TAR_DST / base_name\n",
    "    \n",
    "    if not dry_run:\n",
    "        if skip_exists:\n",
    "            if base_name_path.exists():\n",
    "                print('Tar exists already, skipping.')\n",
    "\n",
    "        shutil.make_archive(\n",
    "            base_name=base_name_path,\n",
    "            format='gztar',\n",
    "            root_dir=results_dir\n",
    "        )"
   ]
  }
 ],
 "metadata": {
  "kernelspec": {
   "display_name": "Python 3 (ipykernel)",
   "language": "python",
   "name": "python3"
  },
  "language_info": {
   "codemirror_mode": {
    "name": "ipython",
    "version": 3
   },
   "file_extension": ".py",
   "mimetype": "text/x-python",
   "name": "python",
   "nbconvert_exporter": "python",
   "pygments_lexer": "ipython3",
   "version": "3.9.10"
  }
 },
 "nbformat": 4,
 "nbformat_minor": 4
}
