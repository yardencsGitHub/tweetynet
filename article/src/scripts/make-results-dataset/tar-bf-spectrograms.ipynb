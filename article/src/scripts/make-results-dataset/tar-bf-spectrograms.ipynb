{
 "cells": [
  {
   "cell_type": "code",
   "execution_count": 1,
   "id": "dcb01cdc-7d67-4708-8100-618902fab26c",
   "metadata": {},
   "outputs": [],
   "source": [
    "import logging\n",
    "from pathlib import Path\n",
    "import shutil\n",
    "\n",
    "import pandas as pd\n",
    "import pyprojroot\n",
    "import vak"
   ]
  },
  {
   "cell_type": "code",
   "execution_count": 2,
   "id": "ef74e7ba-d98c-45d8-8737-22a77a95fa7e",
   "metadata": {},
   "outputs": [],
   "source": [
    "results_root = pyprojroot.here() / 'results'"
   ]
  },
  {
   "cell_type": "markdown",
   "id": "3642ecbf-f16e-4814-8191-dcb2417cf7ac",
   "metadata": {},
   "source": [
    "Use error .csv files to get results dirs"
   ]
  },
  {
   "cell_type": "code",
   "execution_count": 3,
   "id": "c9e541c1-a57b-4702-a29e-f6f172b868b9",
   "metadata": {},
   "outputs": [],
   "source": [
    "err_csvs = sorted(results_root.rglob('err*csv'))\n",
    "err_csvs = [\n",
    "    err_csv\n",
    "    for err_csv in err_csvs\n",
    "    if 'Bengalese_Finches' in str(err_csv)\n",
    "]"
   ]
  },
  {
   "cell_type": "code",
   "execution_count": 4,
   "id": "7de8cf69-67f0-4900-8486-d4c4ca73b52e",
   "metadata": {},
   "outputs": [],
   "source": [
    "these_expt_dirs = [\n",
    "    'filter_num',\n",
    "    'filter_size',\n",
    "    'hidden_size',\n",
    "    'learncurve',\n",
    "    'window_size',\n",
    "]"
   ]
  },
  {
   "cell_type": "code",
   "execution_count": 5,
   "id": "60d9f1df-6b70-433d-8109-cda4135edbac",
   "metadata": {},
   "outputs": [],
   "source": [
    "err_csvs = [\n",
    "    err_csv\n",
    "    for err_csv in err_csvs\n",
    "    if any([expt_dir in str(err_csv) for expt_dir in these_expt_dirs])\n",
    "]           "
   ]
  },
  {
   "cell_type": "code",
   "execution_count": 6,
   "id": "b6c1cb3e-8173-43d2-9285-3c74c6a2615a",
   "metadata": {},
   "outputs": [],
   "source": [
    "results_dirs = []\n",
    "for err_csv in err_csvs:\n",
    "    df = pd.read_csv(err_csv)\n",
    "    results_dirs.extend(\n",
    "        df['results_dir'].unique().tolist()\n",
    "    )"
   ]
  },
  {
   "cell_type": "markdown",
   "id": "fa111e78-18df-4e02-a02f-acce91a6581a",
   "metadata": {},
   "source": [
    "Now get spectrogram directories from configs copies to results dirs.  \n",
    "And find the unique set of spectrogram directories."
   ]
  },
  {
   "cell_type": "code",
   "execution_count": 7,
   "id": "221bdac3-b219-46aa-b283-a07d80859283",
   "metadata": {},
   "outputs": [],
   "source": [
    "results_dir_paths = []\n",
    "\n",
    "for results_dir in results_dirs:\n",
    "    # need to fix path for window_size_352, it's different for some reason\n",
    "    if not results_dir.startswith('results') and results_dir.startswith(\n",
    "        '/home/art/Documents/repos/coding/birdsong/tweetynet/'\n",
    "    ):\n",
    "        results_dir = results_dir.replace('/home/art/Documents/repos/coding/birdsong/tweetynet/', '')\n",
    "\n",
    "    results_dir_path = pyprojroot.here() / results_dir\n",
    "    # print(f'exists: {results_dir_path.exists()} -- {results_dir}')\n",
    "    results_dir_paths.append(results_dir_path)"
   ]
  },
  {
   "cell_type": "code",
   "execution_count": 8,
   "id": "70337ff5-a99b-4000-9f72-cc95b3bc1b08",
   "metadata": {},
   "outputs": [
    {
     "name": "stdout",
     "output_type": "stream",
     "text": [
      "/home/art/Documents/repos/coding/birdsong/tweetynet/article\n"
     ]
    }
   ],
   "source": [
    "cd /home/art/Documents/repos/coding/birdsong/tweetynet/article"
   ]
  },
  {
   "cell_type": "code",
   "execution_count": 9,
   "id": "3d0149d9-4217-46ae-97b1-55c56133e512",
   "metadata": {},
   "outputs": [],
   "source": [
    "spect_generated_dirs = []\n",
    "\n",
    "for results_dir_path in results_dir_paths:\n",
    "    config_path = sorted(results_dir_path.glob('*.toml'))\n",
    "    assert len(config_path) == 1\n",
    "    config_path = config_path[0]\n",
    "\n",
    "    config = vak.config.parse.from_toml_path(config_path)\n",
    "    data_csv_path = config.learncurve.csv_path\n",
    "\n",
    "    data_df = pd.read_csv(data_csv_path)\n",
    "\n",
    "    spect_path_parents = [Path(spect_path).parent\n",
    "                          for spect_path in data_df['spect_path'].values]\n",
    "    spect_path_parents = set(spect_path_parents)\n",
    "    spect_generated_dirs.extend(list(spect_path_parents))\n",
    "\n",
    "uniq_spect_generated_dirs = list(set(spect_generated_dirs))"
   ]
  },
  {
   "cell_type": "code",
   "execution_count": 10,
   "id": "e13cf610-dbba-42e3-9f81-47fd1d13c5cd",
   "metadata": {},
   "outputs": [
    {
     "name": "stdout",
     "output_type": "stream",
     "text": [
      "/home/art/Documents/data/BirdsongRecognition/Bird0/Wave/spectrograms_generated_210528_224944 exists: True\n",
      "/home/art/Documents/repos/coding/birdsong/tweetynet/article/data/BFSongRepository/learncurve/gy6or6/spectrograms_generated_210423_094826 exists: True\n",
      "/home/art/Documents/repos/coding/birdsong/tweetynet/article/data/BFSongRepository/learncurve/or60yw70/spectrograms_generated_210423_095512 exists: True\n",
      "/home/art/Documents/data/BirdsongRecognition/Bird7/Wave/spectrograms_generated_210527_213331 exists: True\n",
      "/home/art/Documents/repos/coding/birdsong/tweetynet/article/data/BFSongRepository/learncurve/bl26lb16/spectrograms_generated_210423_094143 exists: True\n",
      "/home/art/Documents/data/BirdsongRecognition/Bird9/Wave/spectrograms_generated_210527_213351 exists: True\n",
      "/home/art/Documents/data/BirdsongRecognition/Bird4/Wave/spectrograms_generated_210528_224959 exists: True\n",
      "/home/art/Documents/repos/coding/birdsong/tweetynet/article/data/BFSongRepository/learncurve/gr41rd51/spectrograms_generated_210521_212334 exists: True\n"
     ]
    }
   ],
   "source": [
    "for ind, spect_generated_dir in enumerate(list(uniq_spect_generated_dirs)):\n",
    "    if 'tweetynet/data' in str(spect_generated_dir):\n",
    "        spect_generated_dir = Path(str(spect_generated_dir).replace('tweetynet/data', 'tweetynet/article/data'))\n",
    "    if spect_generated_dir.exists():\n",
    "        print(spect_generated_dir, f\"exists: {spect_generated_dir.exists()}\")\n",
    "        uniq_spect_generated_dirs[ind] = spect_generated_dir\n",
    "    else:\n",
    "        raise FileNotFoundError(\n",
    "            f'did not find data directory: {spect_generated_dir}'\n",
    "        )"
   ]
  },
  {
   "cell_type": "code",
   "execution_count": 11,
   "id": "4ac1c217-0f2b-40a2-8883-7c01b9d349cc",
   "metadata": {},
   "outputs": [],
   "source": [
    "handler = logging.StreamHandler()\n",
    "formatter = logging.Formatter('%(asctime)s - %(name)s - %(levelname)s - %(message)s')\n",
    "handler.setFormatter(formatter)\n",
    "\n",
    "# add it to the root logger\n",
    "logging.getLogger().addHandler(handler)"
   ]
  },
  {
   "cell_type": "code",
   "execution_count": 15,
   "id": "2d4778c3-a54e-4deb-9c52-b87514c1e11d",
   "metadata": {},
   "outputs": [
    {
     "name": "stdout",
     "output_type": "stream",
     "text": [
      "\n",
      "Making tar from:\n",
      "/home/art/Documents/data/BirdsongRecognition/Bird0/Wave/spectrograms_generated_210528_224944\n",
      "\n",
      "\tanimal ID: Bird0\n",
      "\tdir name: spectrograms_generated_210528_224944\n",
      "will generate archive as: /home/art/Documents/repos/coding/birdsong/tweetynet/article/results/tars/Bird0-spectrograms_generated_210528_224944.tar.gz\n",
      "\n",
      "Making tar from:\n",
      "/home/art/Documents/repos/coding/birdsong/tweetynet/article/data/BFSongRepository/learncurve/gy6or6/spectrograms_generated_210423_094826\n",
      "\n",
      "\tanimal ID: gy6or6\n",
      "\tdir name: spectrograms_generated_210423_094826\n",
      "will generate archive as: /home/art/Documents/repos/coding/birdsong/tweetynet/article/results/tars/gy6or6-spectrograms_generated_210423_094826.tar.gz\n",
      "\n",
      "Making tar from:\n",
      "/home/art/Documents/repos/coding/birdsong/tweetynet/article/data/BFSongRepository/learncurve/or60yw70/spectrograms_generated_210423_095512\n",
      "\n",
      "\tanimal ID: or60yw70\n",
      "\tdir name: spectrograms_generated_210423_095512\n",
      "will generate archive as: /home/art/Documents/repos/coding/birdsong/tweetynet/article/results/tars/or60yw70-spectrograms_generated_210423_095512.tar.gz\n",
      "\n",
      "Making tar from:\n",
      "/home/art/Documents/data/BirdsongRecognition/Bird7/Wave/spectrograms_generated_210527_213331\n",
      "\n",
      "\tanimal ID: Bird7\n",
      "\tdir name: spectrograms_generated_210527_213331\n",
      "will generate archive as: /home/art/Documents/repos/coding/birdsong/tweetynet/article/results/tars/Bird7-spectrograms_generated_210527_213331.tar.gz\n",
      "\n",
      "Making tar from:\n",
      "/home/art/Documents/repos/coding/birdsong/tweetynet/article/data/BFSongRepository/learncurve/bl26lb16/spectrograms_generated_210423_094143\n",
      "\n",
      "\tanimal ID: bl26lb16\n",
      "\tdir name: spectrograms_generated_210423_094143\n",
      "will generate archive as: /home/art/Documents/repos/coding/birdsong/tweetynet/article/results/tars/bl26lb16-spectrograms_generated_210423_094143.tar.gz\n",
      "\n",
      "Making tar from:\n",
      "/home/art/Documents/data/BirdsongRecognition/Bird9/Wave/spectrograms_generated_210527_213351\n",
      "\n",
      "\tanimal ID: Bird9\n",
      "\tdir name: spectrograms_generated_210527_213351\n",
      "will generate archive as: /home/art/Documents/repos/coding/birdsong/tweetynet/article/results/tars/Bird9-spectrograms_generated_210527_213351.tar.gz\n",
      "\n",
      "Making tar from:\n",
      "/home/art/Documents/data/BirdsongRecognition/Bird4/Wave/spectrograms_generated_210528_224959\n",
      "\n",
      "\tanimal ID: Bird4\n",
      "\tdir name: spectrograms_generated_210528_224959\n",
      "will generate archive as: /home/art/Documents/repos/coding/birdsong/tweetynet/article/results/tars/Bird4-spectrograms_generated_210528_224959.tar.gz\n",
      "\n",
      "Making tar from:\n",
      "/home/art/Documents/repos/coding/birdsong/tweetynet/article/data/BFSongRepository/learncurve/gr41rd51/spectrograms_generated_210521_212334\n",
      "\n",
      "\tanimal ID: gr41rd51\n",
      "\tdir name: spectrograms_generated_210521_212334\n",
      "will generate archive as: /home/art/Documents/repos/coding/birdsong/tweetynet/article/results/tars/gr41rd51-spectrograms_generated_210521_212334.tar.gz\n"
     ]
    }
   ],
   "source": [
    "DRY_RUN = False\n",
    "SKIP_EXISTING_TAR = False\n",
    "\n",
    "BASE_NAME_ROOT_PATH = pyprojroot.here() / 'results' / 'tars'\n",
    "\n",
    "logger = logging.Logger('targz.logger', level=logging.DEBUG)\n",
    "\n",
    "for spect_dir in uniq_spect_generated_dirs:\n",
    "    if not spect_dir.exists():\n",
    "        print(\n",
    "            f'does not exist: {spect_dir}'\n",
    "        )\n",
    "    else:\n",
    "        print(\n",
    "            f'\\nMaking tar from:\\n{spect_dir}'\n",
    "        )\n",
    "\n",
    "        if 'BFSongRepository' in str(spect_dir):\n",
    "            animal_ID = spect_dir.parents[0].name\n",
    "        elif 'BirdsongRecognition' in str(spect_dir):\n",
    "            animal_ID = spect_dir.parents[1].name\n",
    "        dir_name = spect_dir.name\n",
    "        print(\n",
    "            f'\\n\\tanimal ID: {animal_ID}\\n\\tdir name: {dir_name}'\n",
    "        )\n",
    "        \n",
    "        base_filename = f'{animal_ID}-{dir_name}'\n",
    "        base_name_path = BASE_NAME_ROOT_PATH / base_filename\n",
    "        print(\n",
    "            f'will generate archive as: {base_name_path}.tar.gz'\n",
    "        )\n",
    "\n",
    "        if SKIP_EXISTING_TAR:\n",
    "            tar_path = Path(base_name_path.parent / (base_name_path.name + '.tar.gz'))\n",
    "            if tar_path.exists():\n",
    "                print (\n",
    "                    f'\\tSKIP_EXISTING_TAR is true and tar exists:\\n\\t{tar_path}.\\n\\tSkipping.'\n",
    "                )\n",
    "\n",
    "        if not DRY_RUN:\n",
    "            shutil.make_archive(\n",
    "                base_name_path,\n",
    "                format='gztar',\n",
    "                root_dir=spect_dir,\n",
    "                logger=logger,\n",
    "            )"
   ]
  }
 ],
 "metadata": {
  "kernelspec": {
   "display_name": "Python 3 (ipykernel)",
   "language": "python",
   "name": "python3"
  },
  "language_info": {
   "codemirror_mode": {
    "name": "ipython",
    "version": 3
   },
   "file_extension": ".py",
   "mimetype": "text/x-python",
   "name": "python",
   "nbconvert_exporter": "python",
   "pygments_lexer": "ipython3",
   "version": "3.8.12"
  }
 },
 "nbformat": 4,
 "nbformat_minor": 5
}
