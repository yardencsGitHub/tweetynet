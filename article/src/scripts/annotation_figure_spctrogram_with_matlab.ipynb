{
 "cells": [
  {
   "cell_type": "markdown",
   "metadata": {},
   "source": [
    "This notebook loads the .cbin file for the annotation example and saves it as .wav"
   ]
  },
  {
   "cell_type": "code",
   "execution_count": 15,
   "metadata": {},
   "outputs": [],
   "source": [
    "# imports\n",
    "import evfuncs\n",
    "import pyprojroot\n",
    "import crowsetta\n",
    "import numpy as np\n",
    "import scipy as cp\n",
    "import matlab.engine"
   ]
  },
  {
   "cell_type": "code",
   "execution_count": 16,
   "metadata": {},
   "outputs": [],
   "source": [
    "DATA_ROOT = pyprojroot.here() / 'data' / 'annotation-figure'\n",
    "CBIN = DATA_ROOT.joinpath('gy6or6_baseline_220312_0836.3.cbin')\n",
    "NOTMAT = DATA_ROOT.joinpath('gy6or6_baseline_220312_0836.3.cbin.not.mat')\n",
    "NPZ = DATA_ROOT.joinpath('gy6or6_baseline_220312_0836.3.cbin.spect.npz')\n",
    "WAV = DATA_ROOT.joinpath('gy6or6_baseline_220312_0836.3.wav')"
   ]
  },
  {
   "cell_type": "code",
   "execution_count": 17,
   "metadata": {},
   "outputs": [],
   "source": [
    "TMIN = 3.09\n",
    "TMAX = 4.1\n",
    "TLIM = (TMIN, TMAX)\n",
    "FLIM = (500, 1e4)"
   ]
  },
  {
   "cell_type": "code",
   "execution_count": 3,
   "metadata": {},
   "outputs": [],
   "source": [
    "# load raw audio and annotation\n",
    "rawsong, samp_freq = evfuncs.load_cbin(str(CBIN))\n",
    "notmat_dict = evfuncs.load_notmat(str(NOTMAT))"
   ]
  },
  {
   "cell_type": "code",
   "execution_count": 44,
   "metadata": {},
   "outputs": [],
   "source": [
    "# convert raw data to normalized float and save as .wav\n",
    "y = rawsong.astype(float)\n",
    "y = y - np.mean(y)\n",
    "y = y / np.max(np.abs(y)*np.sqrt(2))\n",
    "cp.io.wavfile.write(WAV,samp_freq,y)"
   ]
  },
  {
   "cell_type": "code",
   "execution_count": 13,
   "metadata": {},
   "outputs": [],
   "source": [
    "# start your matlab engine\n",
    "eng = matlab.engine.start_matlab()\n",
    "eng.make_annotation_sonogram(str(WAV),TLIM,FLIM,nargout=0)\n",
    "eng.close()"
   ]
  }
 ],
 "metadata": {
  "interpreter": {
   "hash": "24c46339e22581c1764c7080ba3e307680de83cb72d8b1d8ebeddb5d0101c6fb"
  },
  "kernelspec": {
   "display_name": "Python 3.8.12 64-bit ('tweetyenv': conda)",
   "language": "python",
   "name": "python3"
  },
  "language_info": {
   "codemirror_mode": {
    "name": "ipython",
    "version": 3
   },
   "file_extension": ".py",
   "mimetype": "text/x-python",
   "name": "python",
   "nbconvert_exporter": "python",
   "pygments_lexer": "ipython3",
   "version": "3.8.12"
  },
  "orig_nbformat": 4
 },
 "nbformat": 4,
 "nbformat_minor": 2
}
